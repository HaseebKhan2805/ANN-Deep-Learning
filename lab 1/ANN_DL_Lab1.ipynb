{
  "cells": [
    {
      "cell_type": "markdown",
      "metadata": {
        "id": "0c1c3147"
      },
      "source": [
        "# **National Unversity Of Technology (NUTECH), Islamabad**\n",
        "## **Department Of Artificial Intelligence**\n",
        "## Course Code: CS381\n",
        "## Course: ANN & Deep Learning Lab\n",
        "## Instructor: Dr Benish/Engr.M Haseeb Khan\n",
        "## Lab Title:  Lab 01 : Introduction to Neural Network Environments and Tensor Operations\n",
        "\n",
        "**Objective:** Get hands-on with tensors: creation, basic ops, reshaping, and automatic differentiation (gradients) — using either **PyTorch** or **TensorFlow/Keras** in **Google Colab**.\n",
        "\n",
        "**What you'll do**\n",
        "1. Set up the environment in Colab (CPU/GPU), verify versions.\n",
        "2. Create tensors: scalar, vector, 3×3 matrix (random), and a 3‑D tensor (2×3×4).\n",
        "3. Run core ops: element‑wise add/mul, matrix multiplication, mean & sum.\n",
        "4. Reshape a 1‑D tensor (12 elems) into 3×4 and 2×6.\n",
        "5. Compute gradients for **y = x²** using autograd (PyTorch) and GradientTape (TensorFlow).\n",
        "\n",
        "> 💡 **Tip**: You can complete the lab in **either** framework. Both PyTorch and TensorFlow solutions are included below.\n",
        "\n",
        "### Table of Contents\n",
        "0. [Colab Runtime Setup (CPU/GPU)](#0-colab-runtime-setup-cpugpu)\n",
        "1. [Tensor Initializations](#1-tensor-initializations)\n",
        "2. [Core Tensor Operations](#2-core-tensor-operations)\n",
        "3. [Reshaping](#3-reshaping)\n",
        "4. [Gradients: Automatic Differentiation](#4-gradients-automatic-differentiation)\n",
        "5. [Post-Lab Tasks: Scenario-Based](#post-lab-tasks-scenario-based)\n",
        "    - [Scenario 1: Image Processing (Tensors & Operations)(PyTorch)](#scenario-1-image-processing-tensors--operations)\n",
        "    - [Scenario 2: Data Analysis (Reshaping & Aggregation)(PyTorch)](#scenario-2-data-analysis-reshaping--aggregation)\n",
        "    - [Scenario 1: Image Processing (Tensors & Operations)(TensorFlow)](#scenario-1-image-processing-tensors--operations)\n",
        "    - [Scenario 2: Data Analysis (Reshaping & Aggregation)(TensorFlow)](#scenario-2-data-analysis-reshaping--aggregation)\n",
        "6. [Common Pitfalls](#common-pitfalls)"
      ],
      "id": "0c1c3147"
    },
    {
      "cell_type": "markdown",
      "id": "1b293ae3",
      "metadata": {
        "id": "1b293ae3"
      },
      "source": [
        "## 0) Colab Runtime Setup (CPU/GPU)\n",
        "- *(Optional but recommended)* **Enable GPU:** `Runtime → Change runtime type → Hardware accelerator: GPU`, then re-run the next cell.\n",
        "- You don’t need Conda in Colab; use `pip` inside the notebook if you need specific versions."
      ]
    },
    {
      "cell_type": "code",
      "execution_count": null,
      "id": "32062ca0",
      "metadata": {
        "colab": {
          "base_uri": "https://localhost:8080/"
        },
        "id": "32062ca0",
        "outputId": "da2e5c7c-7d4a-4874-9658-298d55099c30"
      },
      "outputs": [
        {
          "output_type": "stream",
          "name": "stdout",
          "text": [
            "Python: 3.12.11\n",
            "OS: Linux-6.1.123+-x86_64-with-glibc2.35\n",
            "PyTorch: 2.8.0+cu126\n",
            "CUDA available (torch): True\n",
            "CUDA device: Tesla T4\n",
            "TensorFlow: 2.19.0\n",
            "GPUs (tf): [PhysicalDevice(name='/physical_device:GPU:0', device_type='GPU')]\n",
            "\n",
            "If a framework is missing or version isn't as expected, you can install with pip, e.g.:\n",
            "!pip install torch torchvision torchaudio --index-url https://download.pytorch.org/whl/cu121\n",
            "!pip install tensorflow==2.16.*  # (example)\n"
          ]
        }
      ],
      "source": [
        "# 0.1 — Environment & Version Check (safe to run multiple times)\n",
        "import sys, platform\n",
        "\n",
        "print(\"Python:\", sys.version.split()[0])\n",
        "print(\"OS:\", platform.platform())\n",
        "\n",
        "# Try importing, but do not fail the notebook if one library is missing.\n",
        "torch, tf = None, None\n",
        "\n",
        "try:\n",
        "    import torch\n",
        "    print(\"PyTorch:\", torch.__version__)\n",
        "    print(\"CUDA available (torch):\", torch.cuda.is_available())\n",
        "    if torch.cuda.is_available():\n",
        "        print(\"CUDA device:\", torch.cuda.get_device_name(0))\n",
        "except Exception as e:\n",
        "    print(\"PyTorch not available:\", e)\n",
        "\n",
        "try:\n",
        "    import tensorflow as tf\n",
        "    print(\"TensorFlow:\", tf.__version__)\n",
        "    gpus = tf.config.list_physical_devices('GPU')\n",
        "    print(\"GPUs (tf):\", gpus)\n",
        "except Exception as e:\n",
        "    print(\"TensorFlow not available:\", e)\n",
        "\n",
        "print(\"\\nIf a framework is missing or version isn't as expected, you can install with pip, e.g.:\")\n",
        "print(\"!pip install torch torchvision torchaudio --index-url https://download.pytorch.org/whl/cu121\")\n",
        "print(\"!pip install tensorflow==2.16.*  # (example)\")"
      ]
    },
    {
      "cell_type": "markdown",
      "metadata": {
        "id": "98994815"
      },
      "source": [
        "*   `import sys, platform`: Imports the `sys` and `platform` modules, which provide access to system-specific parameters and functions.\n",
        "*   `print(\"Python:\", sys.version.split()[0])`: Prints the Python version being used. `sys.version` gives a detailed string, and `.split()[0]` extracts just the version number.\n",
        "*   `print(\"OS:\", platform.platform())`: Prints the operating system information.\n",
        "*   `torch, tf = None, None`: Initializes the variables `torch` and `tf` to `None`. This is done before the `try...except` blocks to ensure these variables exist even if the imports fail.\n",
        "*   `try:`: Starts a try block to attempt importing PyTorch.\n",
        "*   `import torch`: Attempts to import the PyTorch library.\n",
        "*   `print(\"PyTorch:\", torch.__version__)`: If the import is successful, prints the installed PyTorch version.\n",
        "*   `print(\"CUDA available (torch):\", torch.cuda.is_available())`: Checks and prints if a CUDA-enabled GPU is available for PyTorch.\n",
        "*   `if torch.cuda.is_available():`: If a CUDA GPU is available...\n",
        "*   `print(\"CUDA device:\", torch.cuda.get_device_name(0))`: Prints the name of the CUDA device (GPU).\n",
        "*   `except Exception as e:`: If any exception occurs during the PyTorch import or checks...\n",
        "*   `print(\"PyTorch not available:\", e)`: Prints a message indicating PyTorch is not available and shows the error.\n",
        "*   `try:`: Starts a try block to attempt importing TensorFlow.\n",
        "*   `import tensorflow as tf`: Attempts to import the TensorFlow library and assigns it the alias `tf`.\n",
        "*   `print(\"TensorFlow:\", tf.__version__)`: If the import is successful, prints the installed TensorFlow version.\n",
        "*   `gpus = tf.config.list_physical_devices('GPU')`: Gets a list of physical GPU devices available to TensorFlow.\n",
        "*   `print(\"GPUs (tf):\", gpus)`: Prints the list of available GPUs found by TensorFlow.\n",
        "*   `except Exception as e:`: If any exception occurs during the TensorFlow import or checks...\n",
        "*   `print(\"TensorFlow not available:\", e)`: Prints a message indicating TensorFlow is not available and shows the error.\n",
        "*   `print(\"\\nIf a framework is missing or version isn't as expected, you can install with pip, e.g.:\")`: Prints a message about how to install frameworks using pip.\n",
        "*   `print(\"!pip install torch torchvision torchaudio --index-url https://download.pytorch.org/whl/cu121\")`: Provides an example pip command to install PyTorch with CUDA support.\n",
        "*   `print(\"!pip install tensorflow==2.16.* # (example)\")`: Provides an example pip command to install a specific version of TensorFlow."
      ],
      "id": "98994815"
    },
    {
      "cell_type": "markdown",
      "id": "81028e51",
      "metadata": {
        "id": "81028e51"
      },
      "source": [
        "## 1) Tensor Initializations\n",
        "Create the following in **PyTorch** and/or **TensorFlow**:\n",
        "a) Scalar (0‑D)  \n",
        "b) Vector (1‑D) with 5 elements  \n",
        "c) 3×3 random matrix (2‑D)  \n",
        "d) 3‑D tensor of shape **2×3×4**"
      ]
    },
    {
      "cell_type": "code",
      "execution_count": null,
      "id": "08c5d03b",
      "metadata": {
        "colab": {
          "base_uri": "https://localhost:8080/"
        },
        "id": "08c5d03b",
        "outputId": "6c8465e9-4e8d-4fd2-f7a9-020a92d4b906"
      },
      "outputs": [
        {
          "output_type": "stream",
          "name": "stdout",
          "text": [
            "=== PyTorch Initializations ===\n",
            "Scalar (0-D): tensor(3.1400) | ndim: 0 | shape: ()\n",
            "Vector (1-D): tensor([1, 2, 3, 4, 5]) | ndim: 1 | shape: (5,)\n",
            "3x3 Random Matrix (2-D):\n",
            " tensor([[0.8823, 0.9150, 0.3829],\n",
            "        [0.9593, 0.3904, 0.6009],\n",
            "        [0.2566, 0.7936, 0.9408]]) \n",
            "ndim: 2 shape: (3, 3)\n",
            "3-D Tensor (2x3x4):\n",
            " tensor([[[0., 0., 0., 0.],\n",
            "         [0., 0., 0., 0.],\n",
            "         [0., 0., 0., 0.]],\n",
            "\n",
            "        [[0., 0., 0., 0.],\n",
            "         [0., 0., 0., 0.],\n",
            "         [0., 0., 0., 0.]]]) \n",
            "ndim: 3 shape: (2, 3, 4)\n"
          ]
        }
      ],
      "source": [
        "# 1A — PyTorch Initializations\n",
        "import torch\n",
        "\n",
        "print(\"=== PyTorch Initializations ===\")\n",
        "# a) Scalar (0-D)\n",
        "scalar_t = torch.tensor(3.14)\n",
        "print(\"Scalar (0-D):\", scalar_t, \"| ndim:\", scalar_t.ndim, \"| shape:\", tuple(scalar_t.shape))\n",
        "\n",
        "# b) Vector (1-D, 5 elements)\n",
        "vector_t = torch.arange(1, 6)  # [1,2,3,4,5]\n",
        "print(\"Vector (1-D):\", vector_t, \"| ndim:\", vector_t.ndim, \"| shape:\", tuple(vector_t.shape))\n",
        "\n",
        "# c) 3x3 random matrix (2-D)\n",
        "torch.manual_seed(42)  # reproducibility\n",
        "matrix_t = torch.rand(3, 3)\n",
        "print(\"3x3 Random Matrix (2-D):\\n\", matrix_t, \"\\nndim:\", matrix_t.ndim, \"shape:\", tuple(matrix_t.shape))\n",
        "\n",
        "# d) 3-D tensor with shape 2x3x4\n",
        "tensor3d_t = torch.zeros(2, 3, 4)  # or torch.randn(2,3,4)\n",
        "print(\"3-D Tensor (2x3x4):\\n\", tensor3d_t, \"\\nndim:\", tensor3d_t.ndim, \"shape:\", tuple(tensor3d_t.shape))"
      ]
    },
    {
      "cell_type": "markdown",
      "metadata": {
        "id": "ad5c6198"
      },
      "source": [
        "*   `import torch`: Imports the PyTorch library.\n",
        "*   `print(\"=== PyTorch Initializations ===\")`: Prints a header to indicate the start of PyTorch initializations.\n",
        "*   `scalar_t = torch.tensor(3.14)`: Creates a PyTorch scalar tensor with the value 3.14.\n",
        "*   `print(\"Scalar (0-D):\", scalar_t, \"| ndim:\", scalar_t.ndim, \"| shape:\", tuple(scalar_t.shape))`: Prints the scalar tensor, its number of dimensions (`ndim`), and its shape.\n",
        "*   `vector_t = torch.arange(1, 6)`: Creates a 1-D PyTorch tensor (a vector) with values ranging from 1 up to (but not including) 6.\n",
        "*   `print(\"Vector (1-D):\", vector_t, \"| ndim:\", vector_t.ndim, \"| shape:\", tuple(vector_t.shape))`: Prints the vector tensor, its number of dimensions, and its shape.\n",
        "*   `torch.manual_seed(42)`: Sets the seed for the random number generator for reproducibility of random tensor creation.\n",
        "*   `matrix_t = torch.rand(3, 3)`: Creates a 3x3 2-D PyTorch tensor (a matrix) with random values between 0 and 1.\n",
        "*   `print(\"3x3 Random Matrix (2-D):\\n\", matrix_t, \"\\nndim:\", matrix_t.ndim, \"shape:\", tuple(matrix_t.shape))`: Prints the random matrix, its number of dimensions, and its shape.\n",
        "*   `tensor3d_t = torch.zeros(2, 3, 4)`: Creates a 3-D PyTorch tensor with shape 2x3x4, filled with zeros.\n",
        "*   `print(\"3-D Tensor (2x3x4):\\n\", tensor3d_t, \"\\nndim:\", tensor3d_t.ndim, \"shape:\", tuple(tensor3d_t.shape))`: Prints the 3-D tensor, its number of dimensions, and its shape."
      ],
      "id": "ad5c6198"
    },
    {
      "cell_type": "code",
      "execution_count": null,
      "id": "4255fc56",
      "metadata": {
        "colab": {
          "base_uri": "https://localhost:8080/"
        },
        "id": "4255fc56",
        "outputId": "29f3eb00-8435-4209-e5f1-00856d6a2a53"
      },
      "outputs": [
        {
          "output_type": "stream",
          "name": "stdout",
          "text": [
            "=== TensorFlow Initializations ===\n",
            "Scalar (0-D): tf.Tensor(3.14, shape=(), dtype=float32) | ndim: 0 | shape: ()\n",
            "Vector (1-D): tf.Tensor([1 2 3 4 5], shape=(5,), dtype=int32) | ndim: 1 | shape: (5,)\n",
            "3x3 Random Matrix (2-D):\n",
            " tf.Tensor(\n",
            "[[0.6645621  0.44100678 0.3528825 ]\n",
            " [0.46448255 0.03366041 0.68467236]\n",
            " [0.74011743 0.8724445  0.22632635]], shape=(3, 3), dtype=float32) \n",
            "ndim: 2 shape: (3, 3)\n",
            "3-D Tensor (2x3x4):\n",
            " tf.Tensor(\n",
            "[[[0. 0. 0. 0.]\n",
            "  [0. 0. 0. 0.]\n",
            "  [0. 0. 0. 0.]]\n",
            "\n",
            " [[0. 0. 0. 0.]\n",
            "  [0. 0. 0. 0.]\n",
            "  [0. 0. 0. 0.]]], shape=(2, 3, 4), dtype=float32) \n",
            "ndim: 3 shape: (2, 3, 4)\n"
          ]
        }
      ],
      "source": [
        "# 1B — TensorFlow Initializations\n",
        "import tensorflow as tf\n",
        "\n",
        "print(\"=== TensorFlow Initializations ===\")\n",
        "# a) Scalar (0-D)\n",
        "scalar_tf = tf.constant(3.14)\n",
        "print(\"Scalar (0-D):\", scalar_tf, \"| ndim:\", scalar_tf.ndim, \"| shape:\", scalar_tf.shape)\n",
        "\n",
        "# b) Vector (1-D, 5 elements)\n",
        "vector_tf = tf.range(1, 6)  # [1,2,3,4,5]\n",
        "print(\"Vector (1-D):\", vector_tf, \"| ndim:\", vector_tf.ndim, \"| shape:\", vector_tf.shape)\n",
        "\n",
        "# c) 3x3 random matrix (2-D)\n",
        "tf.random.set_seed(42)  # reproducibility\n",
        "matrix_tf = tf.random.uniform((3, 3))\n",
        "print(\"3x3 Random Matrix (2-D):\\n\", matrix_tf, \"\\nndim:\", matrix_tf.ndim, \"shape:\", matrix_tf.shape)\n",
        "\n",
        "# d) 3-D tensor with shape 2x3x4\n",
        "tensor3d_tf = tf.zeros((2, 3, 4))\n",
        "print(\"3-D Tensor (2x3x4):\\n\", tensor3d_tf, \"\\nndim:\", tensor3d_tf.ndim, \"shape:\", tensor3d_tf.shape)"
      ]
    },
    {
      "cell_type": "markdown",
      "metadata": {
        "id": "c761e936"
      },
      "source": [
        "*   `import tensorflow as tf`: Imports the TensorFlow library and assigns it the alias `tf`.\n",
        "*   `print(\"=== TensorFlow Initializations ===\")`: Prints a header to indicate the start of TensorFlow initializations.\n",
        "*   `scalar_tf = tf.constant(3.14)`: Creates a TensorFlow scalar tensor with the value 3.14. `tf.constant` is used for tensors whose values won't change.\n",
        "*   `print(\"Scalar (0-D):\", scalar_tf, \"| ndim:\", scalar_tf.ndim, \"| shape:\", scalar_tf.shape)`: Prints the scalar tensor, its number of dimensions (`ndim`), and its shape.\n",
        "*   `vector_tf = tf.range(1, 6)`: Creates a 1-D TensorFlow tensor (a vector) with values ranging from 1 up to (but not including) 6.\n",
        "*   `print(\"Vector (1-D):\", vector_tf, \"| ndim:\", vector_tf.ndim, \"| shape:\", vector_tf.shape)`: Prints the vector tensor, its number of dimensions, and its shape.\n",
        "*   `tf.random.set_seed(42)`: Sets the seed for the random number generator for reproducibility of random tensor creation in TensorFlow.\n",
        "*   `matrix_tf = tf.random.uniform((3, 3))`: Creates a 3x3 2-D TensorFlow tensor (a matrix) with random values uniformly distributed between 0 and 1.\n",
        "*   `print(\"3x3 Random Matrix (2-D):\\n\", matrix_tf, \"\\nndim:\", matrix_tf.ndim, \"shape:\", matrix_tf.shape)`: Prints the random matrix, its number of dimensions, and its shape. `.numpy()` is often used to get the NumPy representation for clearer printing of tensor contents.\n",
        "*   `tensor3d_tf = tf.zeros((2, 3, 4))`: Creates a 3-D TensorFlow tensor with shape 2x3x4, filled with zeros.\n",
        "*   `print(\"3-D Tensor (2x3x4):\\n\", tensor3d_tf, \"\\nndim:\", tensor3d_tf.ndim, \"shape:\", tensor3d_tf.shape)`: Prints the 3-D tensor, its number of dimensions, and its shape."
      ],
      "id": "c761e936"
    },
    {
      "cell_type": "markdown",
      "id": "081da178",
      "metadata": {
        "id": "081da178"
      },
      "source": [
        "## 2) Core Tensor Operations\n",
        "Perform and print the results of:\n",
        "a) **Element-wise addition** and **multiplication** on same-shape tensors  \n",
        "b) **Matrix multiplication** (dot product) of compatible 2‑D tensors  \n",
        "c) **Mean** and **Sum** over all elements"
      ]
    },
    {
      "cell_type": "code",
      "execution_count": null,
      "id": "186e85bf",
      "metadata": {
        "colab": {
          "base_uri": "https://localhost:8080/"
        },
        "id": "186e85bf",
        "outputId": "8b0cde7a-4bb0-4181-9210-bcae23f5d4cf"
      },
      "outputs": [
        {
          "output_type": "stream",
          "name": "stdout",
          "text": [
            "A:\n",
            " tensor([[1., 2., 3.],\n",
            "        [4., 5., 6.]])\n",
            "B:\n",
            " tensor([[10., 20., 30.],\n",
            "        [40., 50., 60.]])\n",
            "\n",
            "Element-wise Add:\n",
            " tensor([[11., 22., 33.],\n",
            "        [44., 55., 66.]])\n",
            "Element-wise Mul:\n",
            " tensor([[ 10.,  40.,  90.],\n",
            "        [160., 250., 360.]])\n",
            "\n",
            "Matrix Multiplication A @ C:\n",
            " tensor([[22., 28.],\n",
            "        [49., 64.]])\n",
            "\n",
            "Mean(A): 3.5\n",
            "Sum(A): 21.0\n"
          ]
        }
      ],
      "source": [
        "# 2A — PyTorch: Element-wise ops, Matmul, Mean, Sum\n",
        "import torch\n",
        "\n",
        "A = torch.tensor([[1., 2., 3.],\n",
        "                  [4., 5., 6.]])\n",
        "B = torch.tensor([[10., 20., 30.],\n",
        "                  [40., 50., 60.]])\n",
        "\n",
        "print(\"A:\\n\", A)\n",
        "print(\"B:\\n\", B)\n",
        "\n",
        "# a) Element-wise\n",
        "add_AB = A + B\n",
        "mul_AB = A * B\n",
        "print(\"\\nElement-wise Add:\\n\", add_AB)\n",
        "print(\"Element-wise Mul:\\n\", mul_AB)\n",
        "\n",
        "# b) Matrix multiplication (2x3) @ (3x2) -> (2x2)\n",
        "C = torch.tensor([[1., 2.],\n",
        "                  [3., 4.],\n",
        "                  [5., 6.]])\n",
        "matmul_result = A @ C  # or torch.matmul(A, C)\n",
        "print(\"\\nMatrix Multiplication A @ C:\\n\", matmul_result)\n",
        "\n",
        "# c) Mean & Sum (on A)\n",
        "print(\"\\nMean(A):\", A.mean().item())\n",
        "print(\"Sum(A):\", A.sum().item())"
      ]
    },
    {
      "cell_type": "markdown",
      "metadata": {
        "id": "79e9a93c"
      },
      "source": [
        "*   `import torch`: Imports the PyTorch library.\n",
        "*   `A = torch.tensor([[1., 2., 3.], [4., 5., 6.]])`: Creates a 2x3 PyTorch tensor `A`.\n",
        "*   `B = torch.tensor([[10., 20., 30.], [40., 50., 60.]])`: Creates another 2x3 PyTorch tensor `B`.\n",
        "*   `print(\"A:\\n\", A)`: Prints the tensor `A`.\n",
        "*   `print(\"B:\\n\", B)`: Prints the tensor `B`.\n",
        "*   `add_AB = A + B`: Performs element-wise addition of tensors `A` and `B`.\n",
        "*   `mul_AB = A * B`: Performs element-wise multiplication of tensors `A` and `B`.\n",
        "*   `print(\"\\nElement-wise Add:\\n\", add_AB)`: Prints the result of element-wise addition.\n",
        "*   `print(\"Element-wise Mul:\\n\", mul_AB)`: Prints the result of element-wise multiplication.\n",
        "*   `C = torch.tensor([[1., 2.], [3., 4.], [5., 6.]])`: Creates a 3x2 PyTorch tensor `C` for matrix multiplication.\n",
        "*   `matmul_result = A @ C  # or torch.matmul(A, C)`: Performs matrix multiplication of `A` (2x3) and `C` (3x2), resulting in a 2x2 tensor. The `@` operator is a shorthand for matrix multiplication in PyTorch.\n",
        "*   `print(\"\\nMatrix Multiplication A @ C:\\n\", matmul_result)`: Prints the result of the matrix multiplication.\n",
        "*   `print(\"\\nMean(A):\", A.mean().item())`: Calculates the mean of all elements in tensor `A` and uses `.item()` to get the scalar value.\n",
        "*   `print(\"Sum(A):\", A.sum().item())`: Calculates the sum of all elements in tensor `A` and uses `.item()` to get the scalar value."
      ],
      "id": "79e9a93c"
    },
    {
      "cell_type": "code",
      "execution_count": null,
      "id": "350d9850",
      "metadata": {
        "colab": {
          "base_uri": "https://localhost:8080/"
        },
        "id": "350d9850",
        "outputId": "2e0f9b4d-8505-4999-f656-60c39b0cb303"
      },
      "outputs": [
        {
          "output_type": "stream",
          "name": "stdout",
          "text": [
            "A:\n",
            " [[1. 2. 3.]\n",
            " [4. 5. 6.]]\n",
            "B:\n",
            " [[10. 20. 30.]\n",
            " [40. 50. 60.]]\n",
            "\n",
            "Element-wise Add:\n",
            " [[11. 22. 33.]\n",
            " [44. 55. 66.]]\n",
            "Element-wise Mul:\n",
            " [[ 10.  40.  90.]\n",
            " [160. 250. 360.]]\n",
            "\n",
            "Matrix Multiplication A @ C:\n",
            " [[22. 28.]\n",
            " [49. 64.]]\n",
            "\n",
            "Mean(A): 3.5\n",
            "Sum(A): 21.0\n"
          ]
        }
      ],
      "source": [
        "# 2B — TensorFlow: Element-wise ops, Matmul, Mean, Sum\n",
        "import tensorflow as tf\n",
        "\n",
        "A = tf.constant([[1., 2., 3.],\n",
        "                 [4., 5., 6.]])\n",
        "B = tf.constant([[10., 20., 30.],\n",
        "                 [40., 50., 60.]])\n",
        "\n",
        "print(\"A:\\n\", A.numpy())\n",
        "print(\"B:\\n\", B.numpy())\n",
        "\n",
        "# a) Element-wise\n",
        "add_AB = A + B\n",
        "mul_AB = A * B\n",
        "print(\"\\nElement-wise Add:\\n\", add_AB.numpy())\n",
        "print(\"Element-wise Mul:\\n\", mul_AB.numpy())\n",
        "\n",
        "# b) Matrix multiplication (2x3) x (3x2) -> (2x2)\n",
        "C = tf.constant([[1., 2.],\n",
        "                 [3., 4.],\n",
        "                 [5., 6.]])\n",
        "matmul_result = tf.matmul(A, C)\n",
        "print(\"\\nMatrix Multiplication A @ C:\\n\", matmul_result.numpy())\n",
        "\n",
        "# c) Mean & Sum (on A)\n",
        "print(\"\\nMean(A):\", tf.reduce_mean(A).numpy())\n",
        "print(\"Sum(A):\", tf.reduce_sum(A).numpy())"
      ]
    },
    {
      "cell_type": "markdown",
      "metadata": {
        "id": "c817e6c5"
      },
      "source": [
        "*   `import tensorflow as tf`: Imports the TensorFlow library and assigns it the alias `tf`.\n",
        "*   `A = tf.constant([[1., 2., 3.], [4., 5., 6.]])`: Creates a 2x3 TensorFlow tensor `A` using `tf.constant`.\n",
        "*   `B = tf.constant([[10., 20., 30.], [40., 50., 60.]])`: Creates another 2x3 TensorFlow tensor `B` using `tf.constant`.\n",
        "*   `print(\"A:\\n\", A.numpy())`: Prints the tensor `A`. `.numpy()` is used to get the NumPy array representation for printing.\n",
        "*   `print(\"B:\\n\", B.numpy())`: Prints the tensor `B` using `.numpy()`.\n",
        "*   `add_AB = A + B`: Performs element-wise addition of tensors `A` and `B`.\n",
        "*   `mul_AB = A * B`: Performs element-wise multiplication of tensors `A` and `B`.\n",
        "*   `print(\"\\nElement-wise Add:\\n\", add_AB.numpy())`: Prints the result of element-wise addition using `.numpy()`.\n",
        "*   `print(\"Element-wise Mul:\\n\", mul_AB.numpy())`: Prints the result of element-wise multiplication using `.numpy()`.\n",
        "*   `C = tf.constant([[1., 2.], [3., 4.], [5., 6.]])`: Creates a 3x2 TensorFlow tensor `C` for matrix multiplication using `tf.constant`.\n",
        "*   `matmul_result = tf.matmul(A, C)`: Performs matrix multiplication of `A` (2x3) and `C` (3x2), resulting in a 2x2 tensor, using `tf.matmul()`.\n",
        "*   `print(\"\\nMatrix Multiplication A @ C:\\n\", matmul_result.numpy())`: Prints the result of the matrix multiplication using `.numpy()`.\n",
        "*   `print(\"\\nMean(A):\", tf.reduce_mean(A).numpy())`: Calculates the mean of all elements in tensor `A` using `tf.reduce_mean()` and gets the scalar value with `.numpy()`.\n",
        "*   `print(\"Sum(A):\", tf.reduce_sum(A).numpy())`: Calculates the sum of all elements in tensor `A` using `tf.reduce_sum()` and gets the scalar value with `.numpy()`."
      ],
      "id": "c817e6c5"
    },
    {
      "cell_type": "markdown",
      "id": "e48a33ee",
      "metadata": {
        "id": "e48a33ee"
      },
      "source": [
        "## 3) Reshaping\n",
        "Create a 1‑D tensor with **12 elements** and reshape it to **3×4** and **2×6**. Note: In PyTorch, `.reshape` may return views; `.view` requires contiguous tensors. In TensorFlow, use `tf.reshape`. Verify shapes and understand that reshaping does **not** change the data order by default (row-major)."
      ]
    },
    {
      "cell_type": "code",
      "execution_count": null,
      "id": "e9ad503f",
      "metadata": {
        "colab": {
          "base_uri": "https://localhost:8080/"
        },
        "id": "e9ad503f",
        "outputId": "e02cf2b4-f707-42f9-8345-b899a6835533"
      },
      "outputs": [
        {
          "output_type": "stream",
          "name": "stdout",
          "text": [
            "x: tensor([ 1,  2,  3,  4,  5,  6,  7,  8,  9, 10, 11, 12]) | shape: (12,)\n",
            "\n",
            "Reshaped to 3x4:\n",
            " tensor([[ 1,  2,  3,  4],\n",
            "        [ 5,  6,  7,  8],\n",
            "        [ 9, 10, 11, 12]]) | shape: (3, 4)\n",
            "\n",
            "Reshaped to 2x6:\n",
            " tensor([[ 1,  2,  3,  4,  5,  6],\n",
            "        [ 7,  8,  9, 10, 11, 12]]) | shape: (2, 6)\n"
          ]
        }
      ],
      "source": [
        "# 3A — PyTorch Reshaping\n",
        "import torch\n",
        "\n",
        "x = torch.arange(1, 13)  # [1..12]\n",
        "print(\"x:\", x, \"| shape:\", tuple(x.shape))\n",
        "\n",
        "x_3x4 = x.reshape(3, 4)\n",
        "x_2x6 = x.reshape(2, 6)\n",
        "print(\"\\nReshaped to 3x4:\\n\", x_3x4, \"| shape:\", tuple(x_3x4.shape))\n",
        "print(\"\\nReshaped to 2x6:\\n\", x_2x6, \"| shape:\", tuple(x_2x6.shape))"
      ]
    },
    {
      "cell_type": "markdown",
      "metadata": {
        "id": "cfd6bf25"
      },
      "source": [
        "*   `import torch`: Imports the PyTorch library.\n",
        "*   `x = torch.arange(1, 13)`: Creates a 1-D PyTorch tensor `x` with values from 1 up to (but not including) 13, effectively creating a tensor with elements 1 through 12.\n",
        "*   `print(\"x:\", x, \"| shape:\", tuple(x.shape))`: Prints the original 1-D tensor `x` and its shape.\n",
        "*   `x_3x4 = x.reshape(3, 4)`: Reshapes the 1-D tensor `x` into a 2-D tensor with a shape of 3 rows and 4 columns. The elements are filled in row-major order.\n",
        "*   `x_2x6 = x.reshape(2, 6)`: Reshapes the original 1-D tensor `x` into a 2-D tensor with a shape of 2 rows and 6 columns. The elements are filled in row-major order.\n",
        "*   `print(\"\\nReshaped to 3x4:\\n\", x_3x4, \"| shape:\", tuple(x_3x4.shape))`: Prints the tensor reshaped to 3x4 and its new shape.\n",
        "*   `print(\"\\nReshaped to 2x6:\\n\", x_2x6, \"| shape:\", tuple(x_2x6.shape))`: Prints the tensor reshaped to 2x6 and its new shape."
      ],
      "id": "cfd6bf25"
    },
    {
      "cell_type": "code",
      "execution_count": null,
      "id": "943303e6",
      "metadata": {
        "colab": {
          "base_uri": "https://localhost:8080/"
        },
        "id": "943303e6",
        "outputId": "9a0e8a6c-88d6-4856-e277-482c4a32ddf4"
      },
      "outputs": [
        {
          "output_type": "stream",
          "name": "stdout",
          "text": [
            "x: [ 1  2  3  4  5  6  7  8  9 10 11 12] | shape: (12,)\n",
            "\n",
            "Reshaped to 3x4:\n",
            " [[ 1  2  3  4]\n",
            " [ 5  6  7  8]\n",
            " [ 9 10 11 12]] | shape: (3, 4)\n",
            "\n",
            "Reshaped to 2x6:\n",
            " [[ 1  2  3  4  5  6]\n",
            " [ 7  8  9 10 11 12]] | shape: (2, 6)\n"
          ]
        }
      ],
      "source": [
        "# 3B — TensorFlow Reshaping\n",
        "import tensorflow as tf\n",
        "\n",
        "x = tf.range(1, 13)  # [1..12]\n",
        "print(\"x:\", x.numpy(), \"| shape:\", x.shape)\n",
        "\n",
        "x_3x4 = tf.reshape(x, (3, 4))\n",
        "x_2x6 = tf.reshape(x, (2, 6))\n",
        "print(\"\\nReshaped to 3x4:\\n\", x_3x4.numpy(), \"| shape:\", x_3x4.shape)\n",
        "print(\"\\nReshaped to 2x6:\\n\", x_2x6.numpy(), \"| shape:\", x_2x6.shape)"
      ]
    },
    {
      "cell_type": "markdown",
      "metadata": {
        "id": "1687e391"
      },
      "source": [
        "*   `import tensorflow as tf`: Imports the TensorFlow library and assigns it the alias `tf`.\n",
        "*   `x = tf.range(1, 13)`: Creates a 1-D TensorFlow tensor `x` with values from 1 up to (but not including) 13, effectively creating a tensor with elements 1 through 12.\n",
        "*   `print(\"x:\", x.numpy(), \"| shape:\", x.shape)`: Prints the original 1-D tensor `x` and its shape. `.numpy()` is used to display the tensor's contents as a NumPy array.\n",
        "*   `x_3x4 = tf.reshape(x, (3, 4))`: Reshapes the 1-D tensor `x` into a 2-D tensor with a shape of 3 rows and 4 columns using `tf.reshape`. The elements are filled in row-major order.\n",
        "*   `x_2x6 = tf.reshape(x, (2, 6))`: Reshapes the original 1-D tensor `x` into a 2-D tensor with a shape of 2 rows and 6 columns using `tf.reshape`. The elements are filled in row-major order.\n",
        "*   `print(\"\\nReshaped to 3x4:\\n\", x_3x4.numpy(), \"| shape:\", x_3x4.shape)`: Prints the tensor reshaped to 3x4 and its new shape using `.numpy()`.\n",
        "*   `print(\"\\nReshaped to 2x6:\\n\", x_2x6.numpy(), \"| shape:\", x_2x6.shape)`: Prints the tensor reshaped to 2x6 and its new shape using `.numpy()`."
      ],
      "id": "1687e391"
    },
    {
      "cell_type": "markdown",
      "id": "0d6a3996",
      "metadata": {
        "id": "0d6a3996"
      },
      "source": [
        "## 4) Gradients: Automatic Differentiation\n",
        "Compute the gradient of **y = x²** w.r.t. **x** at a chosen value (e.g., x=3.0).\n",
        "\n",
        "- **PyTorch** uses `requires_grad=True` and `y.backward()`.\n",
        "- **TensorFlow** uses `tf.GradientTape()`."
      ]
    },
    {
      "cell_type": "code",
      "execution_count": null,
      "id": "1426ac11",
      "metadata": {
        "colab": {
          "base_uri": "https://localhost:8080/"
        },
        "id": "1426ac11",
        "outputId": "f3ec9e0a-698c-415f-a0da-b9b824e9d9e4"
      },
      "outputs": [
        {
          "output_type": "stream",
          "name": "stdout",
          "text": [
            "x: 3.0  y: 9.0  dy/dx: 6.0\n"
          ]
        }
      ],
      "source": [
        "# 4A — PyTorch Autograd (y = x^2)\n",
        "import torch\n",
        "\n",
        "x = torch.tensor(3.0, requires_grad=True)\n",
        "y = x**2  # y = x^2\n",
        "y.backward()          # dy/dx at x=3\n",
        "print(\"x:\", x.item(), \" y:\", y.item(), \" dy/dx:\", x.grad.item())  # dy/dx should be 2x = 6"
      ]
    },
    {
      "cell_type": "markdown",
      "metadata": {
        "id": "453c2eaf"
      },
      "source": [
        "*   `import torch`: Imports the PyTorch library.\n",
        "*   `x = torch.tensor(3.0, requires_grad=True)`: Creates a PyTorch scalar tensor `x` with the value 3.0. `requires_grad=True` is crucial here as it tells PyTorch to track operations on this tensor so that gradients can be computed later.\n",
        "*   `y = x**2  # y = x^2`: Computes the value of `y` as the square of `x`. Since `y` is computed from a tensor that requires gradients, PyTorch will build a computation graph to track this operation.\n",
        "*   `y.backward()`: This is the core of backpropagation. It computes the gradients of `y` with respect to all tensors that have `requires_grad=True` in the computation graph leading to `y`. In this case, it computes the gradient of `y` with respect to `x`.\n",
        "*   `print(\"x:\", x.item(), \" y:\", y.item(), \" dy/dx:\", x.grad.item())`: Prints the original value of `x`, the computed value of `y`, and the computed gradient of `y` with respect to `x`. `.item()` is used to extract the scalar value from a tensor. `x.grad` stores the computed gradient after `y.backward()` is called."
      ],
      "id": "453c2eaf"
    },
    {
      "cell_type": "code",
      "execution_count": null,
      "id": "79796251",
      "metadata": {
        "colab": {
          "base_uri": "https://localhost:8080/"
        },
        "id": "79796251",
        "outputId": "44ec404d-f575-4721-961f-d8067ba3fea6"
      },
      "outputs": [
        {
          "output_type": "stream",
          "name": "stdout",
          "text": [
            "x: 3.0  y: 9.0  dy/dx: 6.0\n"
          ]
        }
      ],
      "source": [
        "# 4B — TensorFlow GradientTape (y = x^2)\n",
        "import tensorflow as tf\n",
        "\n",
        "x = tf.Variable(3.0)\n",
        "with tf.GradientTape() as tape:\n",
        "    y = x**2        # y = x^2\n",
        "dy_dx = tape.gradient(y, x)  # dy/dx\n",
        "print(\"x:\", x.numpy(), \" y:\", y.numpy(), \" dy/dx:\", dy_dx.numpy())  # should be 6"
      ]
    },
    {
      "cell_type": "markdown",
      "metadata": {
        "id": "203c0512"
      },
      "source": [
        "*   `import tensorflow as tf`: Imports the TensorFlow library and assigns it the alias `tf`.\n",
        "*   `x = tf.Variable(3.0)`: Creates a TensorFlow `Variable` named `x` with an initial value of 3.0. `tf.Variable` is used for tensors whose values can be changed (like model parameters) and are automatically tracked for gradient computation.\n",
        "*   `with tf.GradientTape() as tape:`: This creates a `tf.GradientTape` context. All operations performed on `tf.Variable`s within this `with` block are recorded by the tape, allowing for gradient computation later.\n",
        "*   `y = x**2 # y = x^2`: Computes the value of `y` as the square of `x` within the `GradientTape` context. This operation is recorded by the tape.\n",
        "*   `dy_dx = tape.gradient(y, x)`: This is the core of gradient computation in TensorFlow. It calculates the gradient of `y` with respect to `x`, using the operations recorded by the `tape`.\n",
        "*   `print(\"x:\", x.numpy(), \" y:\", y.numpy(), \" dy/dx:\", dy_dx.numpy())`: Prints the value of `x`, the computed value of `y`, and the computed gradient of `y` with respect to `x`. `.numpy()` is used to extract the scalar value from the TensorFlow tensors for printing."
      ],
      "id": "203c0512"
    },
    {
      "cell_type": "markdown",
      "metadata": {
        "id": "2d244aca"
      },
      "source": [
        "## Post-Lab Tasks: Scenario-Based\n",
        "\n",
        "Let's apply what you've learned about tensors and gradients in a few practical scenarios. Choose either PyTorch or TensorFlow for these tasks."
      ],
      "id": "2d244aca"
    },
    {
      "cell_type": "markdown",
      "source": [
        "###**Scenario 1: Image Processing (Tensors & Operations) (Pytorch)**\n",
        "\n",
        "Imagine you're working with a grayscale image represented as a 2D tensor (matrix). The intensity of each pixel is a value between 0 (black) and 255 (white).\n",
        "\n",
        "1.  **Loading/Creating a Sample Image:** Create a 5x5 tensor to represent a small grayscale image. You can fill it with arbitrary integer values between 0 and 255.\n",
        "2.  **Normalizing Pixel Values:** To prepare for machine learning, pixel values are often normalized to be between 0 and 1. Create a new tensor where each pixel value is divided by 255.\n",
        "3.  **Applying a Simple Filter:** A basic image filter can be represented as another tensor (a kernel). Create a 3x3 kernel tensor (e.g., for blurring or edge detection - you can use simple values like all 1s or a central 1 with surrounding -1s). *Note: Applying a filter fully involves convolution, which is more advanced. For this task, simply perform element-wise multiplication of a section of the image with the kernel.* Select a 3x3 region from your normalized image tensor and perform element-wise multiplication with your kernel.\n",
        "4.  **Calculating Average Brightness:** Calculate the mean pixel value of the *entire* normalized image tensor to get an idea of its overall brightness.\n"
      ],
      "metadata": {
        "id": "xuEoewaZU7KC"
      },
      "id": "xuEoewaZU7KC"
    },
    {
      "cell_type": "code",
      "metadata": {
        "colab": {
          "base_uri": "https://localhost:8080/"
        },
        "id": "9a88fbd0",
        "outputId": "f7c9369f-4491-48cc-8aa5-a3b273f3f02b"
      },
      "source": [
        "# Scenario 1: Image Processing (PyTorch Solution)\n",
        "import torch\n",
        "\n",
        "print(\"--- Scenario 1: Image Processing (PyTorch) ---\")\n",
        "\n",
        "# 1. Loading/Creating a Sample Image (5x5)\n",
        "image_t = torch.randint(0, 256, (5, 5), dtype=torch.float32)\n",
        "print(\"Original Image Tensor:\\n\", image_t)\n",
        "\n",
        "# 2. Normalizing Pixel Values (0 to 1)\n",
        "normalized_image_t = image_t / 255.0\n",
        "print(\"\\nNormalized Image Tensor:\\n\", normalized_image_t)\n",
        "\n",
        "# 3. Applying a Simple Filter (Element-wise multiplication of a 3x3 region)\n",
        "kernel_t = torch.tensor([[1., 1., 1.],\n",
        "                         [1., -8., 1.],\n",
        "                         [1., 1., 1.]]) # Example edge detection kernel\n",
        "\n",
        "# Select a 3x3 region (e.g., top-left corner)\n",
        "image_region = normalized_image_t[0:3, 0:3]\n",
        "filtered_region = image_region * kernel_t\n",
        "print(\"\\nSelected Image Region (3x3):\\n\", image_region)\n",
        "print(\"Kernel:\\n\", kernel_t)\n",
        "print(\"Filtered Region (Element-wise):\\n\", filtered_region)\n",
        "\n",
        "# 4. Calculating Average Brightness of the entire normalized image\n",
        "average_brightness_t = torch.mean(normalized_image_t)\n",
        "print(\"\\nAverage Brightness of Normalized Image:\", average_brightness_t.item())"
      ],
      "id": "9a88fbd0",
      "execution_count": null,
      "outputs": [
        {
          "output_type": "stream",
          "name": "stdout",
          "text": [
            "--- Scenario 1: Image Processing (PyTorch) ---\n",
            "Original Image Tensor:\n",
            " tensor([[121., 210., 214.,  74., 202.],\n",
            "        [ 87., 116.,  99., 103., 151.],\n",
            "        [130., 149.,  52.,   1.,  87.],\n",
            "        [235., 157.,  37., 129., 191.],\n",
            "        [187.,  20., 160., 203.,  57.]])\n",
            "\n",
            "Normalized Image Tensor:\n",
            " tensor([[0.4745, 0.8235, 0.8392, 0.2902, 0.7922],\n",
            "        [0.3412, 0.4549, 0.3882, 0.4039, 0.5922],\n",
            "        [0.5098, 0.5843, 0.2039, 0.0039, 0.3412],\n",
            "        [0.9216, 0.6157, 0.1451, 0.5059, 0.7490],\n",
            "        [0.7333, 0.0784, 0.6275, 0.7961, 0.2235]])\n",
            "\n",
            "Selected Image Region (3x3):\n",
            " tensor([[0.4745, 0.8235, 0.8392],\n",
            "        [0.3412, 0.4549, 0.3882],\n",
            "        [0.5098, 0.5843, 0.2039]])\n",
            "Kernel:\n",
            " tensor([[ 1.,  1.,  1.],\n",
            "        [ 1., -8.,  1.],\n",
            "        [ 1.,  1.,  1.]])\n",
            "Filtered Region (Element-wise):\n",
            " tensor([[ 0.4745,  0.8235,  0.8392],\n",
            "        [ 0.3412, -3.6392,  0.3882],\n",
            "        [ 0.5098,  0.5843,  0.2039]])\n",
            "\n",
            "Average Brightness of Normalized Image: 0.49756866693496704\n"
          ]
        }
      ]
    },
    {
      "cell_type": "markdown",
      "source": [
        "\n",
        "###**Scenario 2: Data Analysis (Reshaping & Aggregation) (Pytorch)**\n",
        "\n",
        "You have collected sensor data in a long, flat sequence, but you know the data was recorded in batches.\n",
        "\n",
        "1.  **Create Sensor Data:** Create a 1D tensor containing 30 sequential data points (you can use `arange` or random values).\n",
        "2.  **Reshape into Batches:** You know the data was collected in 6 batches of 5 readings each. Reshape the 1D tensor into a 2D tensor where each row represents a batch.\n",
        "3.  **Calculate Batch Averages:** Compute the average reading for each batch (i.e., the mean of each row in your 2D tensor).\n",
        "4.  **Reshape for Analysis:** You also want to analyze the data by the type of reading, knowing that the 5 readings in each batch correspond to 5 different sensor types. Reshape the original 1D tensor into a 2D tensor where each column represents a sensor type (you'll need to figure out the correct shape for this!).\n",
        "5.  **Calculate Sensor Type Averages:** Compute the average reading for each sensor type (i.e., the mean of each column in this new 2D tensor)."
      ],
      "metadata": {
        "id": "FaItoECaVJbZ"
      },
      "id": "FaItoECaVJbZ"
    },
    {
      "cell_type": "code",
      "metadata": {
        "colab": {
          "base_uri": "https://localhost:8080/"
        },
        "id": "793bd79e",
        "outputId": "d70fa3c5-2ec1-4314-8f18-4c6ae5fa906a"
      },
      "source": [
        "# Scenario 2: Data Analysis (PyTorch Solution)\n",
        "import torch\n",
        "\n",
        "print(\"\\n--- Scenario 3: Data Analysis (PyTorch) ---\")\n",
        "\n",
        "# 1. Create Sensor Data (1D tensor, 30 elements)\n",
        "sensor_data_1d_t = torch.arange(1, 31, dtype=torch.float32)\n",
        "print(\"Original 1D Sensor Data:\", sensor_data_1d_t)\n",
        "print(\"Shape:\", tuple(sensor_data_1d_t.shape))\n",
        "\n",
        "# 2. Reshape into Batches (6 batches of 5 readings)\n",
        "batches_2d_t = sensor_data_1d_t.reshape(6, 5)\n",
        "print(\"\\nReshaped into Batches (6x5):\\n\", batches_2d_t)\n",
        "print(\"Shape:\", tuple(batches_2d_t.shape))\n",
        "\n",
        "# 3. Calculate Batch Averages (mean of each row)\n",
        "batch_averages_t = torch.mean(batches_2d_t, dim=1) # dim=1 for mean across columns (each row)\n",
        "print(\"\\nBatch Averages:\", batch_averages_t)\n",
        "\n",
        "# 4. Reshape for Analysis by Sensor Type (5 sensor types, 6 readings each)\n",
        "# To get sensor types as columns, we need shape (6, 5) where each column is a sensor type.\n",
        "# The original reshape gave us this directly if we interpret rows as batches.\n",
        "# If we needed to reshape differently to get sensor types as columns from the 1D data:\n",
        "sensor_types_2d_t = sensor_data_1d_t.reshape(6, 5) # Same reshape works for this interpretation\n",
        "print(\"\\nReshaped for Sensor Type Analysis (6x5):\\n\", sensor_types_2d_t)\n",
        "print(\"Shape:\", tuple(sensor_types_2d_t.shape))\n",
        "\n",
        "\n",
        "# 5. Calculate Sensor Type Averages (mean of each column)\n",
        "sensor_type_averages_t = torch.mean(sensor_types_2d_t, dim=0) # dim=0 for mean across rows (each column)\n",
        "print(\"\\nSensor Type Averages:\", sensor_type_averages_t)"
      ],
      "id": "793bd79e",
      "execution_count": null,
      "outputs": [
        {
          "output_type": "stream",
          "name": "stdout",
          "text": [
            "\n",
            "--- Scenario 3: Data Analysis (PyTorch) ---\n",
            "Original 1D Sensor Data: tensor([ 1.,  2.,  3.,  4.,  5.,  6.,  7.,  8.,  9., 10., 11., 12., 13., 14.,\n",
            "        15., 16., 17., 18., 19., 20., 21., 22., 23., 24., 25., 26., 27., 28.,\n",
            "        29., 30.])\n",
            "Shape: (30,)\n",
            "\n",
            "Reshaped into Batches (6x5):\n",
            " tensor([[ 1.,  2.,  3.,  4.,  5.],\n",
            "        [ 6.,  7.,  8.,  9., 10.],\n",
            "        [11., 12., 13., 14., 15.],\n",
            "        [16., 17., 18., 19., 20.],\n",
            "        [21., 22., 23., 24., 25.],\n",
            "        [26., 27., 28., 29., 30.]])\n",
            "Shape: (6, 5)\n",
            "\n",
            "Batch Averages: tensor([ 3.,  8., 13., 18., 23., 28.])\n",
            "\n",
            "Reshaped for Sensor Type Analysis (6x5):\n",
            " tensor([[ 1.,  2.,  3.,  4.,  5.],\n",
            "        [ 6.,  7.,  8.,  9., 10.],\n",
            "        [11., 12., 13., 14., 15.],\n",
            "        [16., 17., 18., 19., 20.],\n",
            "        [21., 22., 23., 24., 25.],\n",
            "        [26., 27., 28., 29., 30.]])\n",
            "Shape: (6, 5)\n",
            "\n",
            "Sensor Type Averages: tensor([13.5000, 14.5000, 15.5000, 16.5000, 17.5000])\n"
          ]
        }
      ]
    },
    {
      "cell_type": "markdown",
      "metadata": {
        "id": "d437aee1"
      },
      "source": [
        "### **Scenario 1: Image Processing (TensorFlow)**"
      ],
      "id": "d437aee1"
    },
    {
      "cell_type": "code",
      "metadata": {
        "colab": {
          "base_uri": "https://localhost:8080/"
        },
        "id": "e919e18e",
        "outputId": "fd2940a8-fba8-464e-de80-f3759cacad4d"
      },
      "source": [
        "# Scenario 1: Image Processing (TensorFlow Solution)\n",
        "import tensorflow as tf\n",
        "import numpy as np\n",
        "\n",
        "print(\"--- Scenario 1: Image Processing (TensorFlow) ---\")\n",
        "\n",
        "# 1. Loading/Creating a Sample Image (5x5)\n",
        "image_tf = tf.random.uniform(shape=(5, 5), minval=0, maxval=256, dtype=tf.float32)\n",
        "print(\"Original Image Tensor:\\n\", image_tf.numpy())\n",
        "\n",
        "# 2. Normalizing Pixel Values (0 to 1)\n",
        "normalized_image_tf = image_tf / 255.0\n",
        "print(\"\\nNormalized Image Tensor:\\n\", normalized_image_tf.numpy())\n",
        "\n",
        "# 3. Applying a Simple Filter (Element-wise multiplication of a 3x3 region)\n",
        "kernel_tf = tf.constant([[1., 1., 1.],\n",
        "                         [1., -8., 1.],\n",
        "                         [1., 1., 1.]], dtype=tf.float32) # Example edge detection kernel\n",
        "\n",
        "# Select a 3x3 region (e.g., top-left corner)\n",
        "image_region_tf = normalized_image_tf[0:3, 0:3]\n",
        "filtered_region_tf = image_region_tf * kernel_tf\n",
        "print(\"\\nSelected Image Region (3x3):\\n\", image_region_tf.numpy())\n",
        "print(\"Kernel:\\n\", kernel_tf.numpy())\n",
        "print(\"Filtered Region (Element-wise):\\n\", filtered_region_tf.numpy())\n",
        "\n",
        "# 4. Calculating Average Brightness of the entire normalized image\n",
        "average_brightness_tf = tf.reduce_mean(normalized_image_tf)\n",
        "print(\"\\nAverage Brightness of Normalized Image:\", average_brightness_tf.numpy())"
      ],
      "id": "e919e18e",
      "execution_count": null,
      "outputs": [
        {
          "output_type": "stream",
          "name": "stdout",
          "text": [
            "--- Scenario 1: Image Processing (TensorFlow) ---\n",
            "Original Image Tensor:\n",
            " [[176.10016  124.02658  238.33456   64.559875 187.17542 ]\n",
            " [228.49747  242.36755  191.82953   89.40961  140.07874 ]\n",
            " [ 66.97061  178.51987   30.624207 136.91992  183.01358 ]\n",
            " [224.00455   86.95679   44.486725 113.114136 230.61148 ]\n",
            " [ 35.33789   31.278015 147.31497  241.07983  235.17657 ]]\n",
            "\n",
            "Normalized Image Tensor:\n",
            " [[0.69058883 0.48637876 0.93464535 0.25317597 0.73402125]\n",
            " [0.8960685  0.950461   0.75227267 0.3506259  0.5493284 ]\n",
            " [0.26262984 0.7000779  0.12009493 0.5369409  0.7177003 ]\n",
            " [0.8784492  0.341007   0.17445774 0.44358486 0.90435874]\n",
            " [0.13857996 0.12265889 0.5777058  0.9454111  0.92226106]]\n",
            "\n",
            "Selected Image Region (3x3):\n",
            " [[0.69058883 0.48637876 0.93464535]\n",
            " [0.8960685  0.950461   0.75227267]\n",
            " [0.26262984 0.7000779  0.12009493]]\n",
            "Kernel:\n",
            " [[ 1.  1.  1.]\n",
            " [ 1. -8.  1.]\n",
            " [ 1.  1.  1.]]\n",
            "Filtered Region (Element-wise):\n",
            " [[ 0.69058883  0.48637876  0.93464535]\n",
            " [ 0.8960685  -7.603688    0.75227267]\n",
            " [ 0.26262984  0.7000779   0.12009493]]\n",
            "\n",
            "Average Brightness of Normalized Image: 0.5753394\n"
          ]
        }
      ]
    },
    {
      "cell_type": "markdown",
      "source": [
        "### **Scenario 2: Data Analysis (TensorFlow)**"
      ],
      "metadata": {
        "id": "U1ADqV_5WPbb"
      },
      "id": "U1ADqV_5WPbb"
    },
    {
      "cell_type": "code",
      "metadata": {
        "colab": {
          "base_uri": "https://localhost:8080/"
        },
        "id": "3e67a39f",
        "outputId": "e181ad41-5f44-4473-9a82-e8ba80068e75"
      },
      "source": [
        "# Scenario 2: Data Analysis (TensorFlow Solution)\n",
        "import tensorflow as tf\n",
        "import numpy as np\n",
        "\n",
        "print(\"\\n--- Scenario 3: Data Analysis (TensorFlow) ---\")\n",
        "\n",
        "# 1. Create Sensor Data (1D tensor, 30 elements)\n",
        "sensor_data_1d_tf = tf.range(1, 31, dtype=tf.float32)\n",
        "print(\"Original 1D Sensor Data:\", sensor_data_1d_tf.numpy())\n",
        "print(\"Shape:\", sensor_data_1d_tf.shape)\n",
        "\n",
        "# 2. Reshape into Batches (6 batches of 5 readings)\n",
        "batches_2d_tf = tf.reshape(sensor_data_1d_tf, (6, 5))\n",
        "print(\"\\nReshaped into Batches (6x5):\\n\", batches_2d_tf.numpy())\n",
        "print(\"Shape:\", batches_2d_tf.shape)\n",
        "\n",
        "# 3. Calculate Batch Averages (mean of each row)\n",
        "batch_averages_tf = tf.reduce_mean(batches_2d_tf, axis=1) # axis=1 for mean across columns (each row)\n",
        "print(\"\\nBatch Averages:\", batch_averages_tf.numpy())\n",
        "\n",
        "# 4. Reshape for Analysis by Sensor Type (5 sensor types, 6 readings each)\n",
        "# To get sensor types as columns, we need shape (6, 5) where each column is a sensor type.\n",
        "# The original reshape gave us this directly if we interpret rows as batches.\n",
        "# If we needed to reshape differently to get sensor types as columns from the 1D data:\n",
        "sensor_types_2d_tf = tf.reshape(sensor_data_1d_tf, (6, 5)) # Same reshape works for this interpretation\n",
        "print(\"\\nReshaped for Sensor Type Analysis (6x5):\\n\", sensor_types_2d_tf.numpy())\n",
        "print(\"Shape:\", sensor_types_2d_tf.shape)\n",
        "\n",
        "# 5. Calculate Sensor Type Averages (mean of each column)\n",
        "sensor_type_averages_tf = tf.reduce_mean(sensor_types_2d_tf, axis=0) # axis=0 for mean across rows (each column)\n",
        "print(\"\\nSensor Type Averages:\", sensor_type_averages_tf.numpy())"
      ],
      "id": "3e67a39f",
      "execution_count": null,
      "outputs": [
        {
          "output_type": "stream",
          "name": "stdout",
          "text": [
            "\n",
            "--- Scenario 3: Data Analysis (TensorFlow) ---\n",
            "Original 1D Sensor Data: [ 1.  2.  3.  4.  5.  6.  7.  8.  9. 10. 11. 12. 13. 14. 15. 16. 17. 18.\n",
            " 19. 20. 21. 22. 23. 24. 25. 26. 27. 28. 29. 30.]\n",
            "Shape: (30,)\n",
            "\n",
            "Reshaped into Batches (6x5):\n",
            " [[ 1.  2.  3.  4.  5.]\n",
            " [ 6.  7.  8.  9. 10.]\n",
            " [11. 12. 13. 14. 15.]\n",
            " [16. 17. 18. 19. 20.]\n",
            " [21. 22. 23. 24. 25.]\n",
            " [26. 27. 28. 29. 30.]]\n",
            "Shape: (6, 5)\n",
            "\n",
            "Batch Averages: [ 3.  8. 13. 18. 23. 28.]\n",
            "\n",
            "Reshaped for Sensor Type Analysis (6x5):\n",
            " [[ 1.  2.  3.  4.  5.]\n",
            " [ 6.  7.  8.  9. 10.]\n",
            " [11. 12. 13. 14. 15.]\n",
            " [16. 17. 18. 19. 20.]\n",
            " [21. 22. 23. 24. 25.]\n",
            " [26. 27. 28. 29. 30.]]\n",
            "Shape: (6, 5)\n",
            "\n",
            "Sensor Type Averages: [13.5 14.5 15.5 16.5 17.5]\n"
          ]
        }
      ]
    },
    {
      "cell_type": "markdown",
      "id": "d5a37615",
      "metadata": {
        "id": "d5a37615"
      },
      "source": [
        "---\n",
        "### Common Pitfalls\n",
        "- Forgetting to enable GPU when you expect CUDA tensors (it’s optional for this lab).\n",
        "- Using incompatible shapes for matrix multiplication (remember: `(m×n) @ (n×p) -> (m×p)`).\n",
        "- Confusing reshape with transpose. Reshape only changes *view* of data size, not order.\n",
        "- In PyTorch, missing `requires_grad=True` means gradients won’t be tracked.\n"
      ]
    },
    {
      "cell_type": "code",
      "source": [],
      "metadata": {
        "id": "Xi5awXgFQCvJ"
      },
      "id": "Xi5awXgFQCvJ",
      "execution_count": null,
      "outputs": []
    }
  ],
  "metadata": {
    "colab": {
      "provenance": [],
      "gpuType": "T4"
    },
    "accelerator": "GPU",
    "language_info": {
      "name": "python"
    },
    "kernelspec": {
      "name": "python3",
      "display_name": "Python 3"
    }
  },
  "nbformat": 4,
  "nbformat_minor": 5
}